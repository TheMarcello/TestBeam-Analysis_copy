{
 "cells": [
  {
   "cell_type": "code",
   "execution_count": 2,
   "id": "a5dbfb04",
   "metadata": {},
   "outputs": [],
   "source": [
    "import numpy as np # NumPy\n",
    "import matplotlib.pylab as plt # Matplotlib plots\n",
    "import matplotlib.patches as mpatches\n",
    "import pandas as pd # Pandas\n",
    "import uproot\n",
    "import pickle\n",
    "import logging\n",
    "import pprint\n",
    "\n",
    "import os # read directories etc.\n",
    "from scipy.optimize import curve_fit\n",
    "import pylandau\n",
    "\n",
    "# import time\n",
    "# from timeout_decorator import timeout\n",
    "\n",
    "from LoadBatch import *\n",
    "from SensorClasses import *\n",
    "\n",
    "verbose = False\n"
   ]
  },
  {
   "cell_type": "code",
   "execution_count": 3,
   "id": "d10194a2",
   "metadata": {},
   "outputs": [],
   "source": [
    "# logging.basicConfig(level=logging.WARNING, format='[%(levelname)s] -\\t %(message)s')\n",
    "logging.basicConfig(level=logging.INFO, format='[%(levelname)s] - \\t %(message)s')"
   ]
  },
  {
   "cell_type": "code",
   "execution_count": 4,
   "id": "95b0f5a5",
   "metadata": {
    "scrolled": true
   },
   "outputs": [
    {
     "name": "stderr",
     "output_type": "stream",
     "text": [
      "[INFO] - \t dictionary of the runs: \n",
      "{'S1': {199: [9577, 9578, 9579, 9580, 9581], 100: [9564, 9565, 9567, 9568, 9570], 101: [9574], 201: [9587, 9588, 9590], 202: [9591, 9592, 9593, 9594], 203: [9595, 9596, 9602], 301: [9609, 9611, 9613, 9614, 9615, 9616], 401: [9620, 9621, 9622, 9624, 9625, 9627, 9628, 9629, 9630], 402: [9631, 9632, 9633, 9636, 9637, 9638, 9639], 403: [9640, 9642, 9644, 9645, 9646], 204: [9672, 9673, 9674], 406: [9677, 9678, 9679, 9680, 9694], 407: [9683, 9684, 9685, 9686, 9687, 9688, 9689, 9691, 9692, 9693], 408: [9695, 9696, 9698], 409: [9701, 9702, 9703], 410: [9704, 9705], 411: [9721, 9722, 9723, 9728, 9729, 9730, 9731, 9732, 9733], 412: [9734, 9735, 9736, 9737, 9738], 205: [9742, 9743, 9744, 9745], 206: [9746, 9747, 9748, 9750], 413: [9761, 9762, 9763, 9764, 9765, 9766, 9767, 9768, 9769, 9775], 414: [9777, 9778, 9779, 9780, 9781, 9782, 9783, 9784, 9785, 9786], 501: [9796, 9797, 9798, 9799, 9800, 9801, 9802, 9803, 9804, 9805], 502: [9807, 9817, 9818, 9819, 9820, 9821, 9822, 9823, 9824, 9825], 503: [9829, 9833, 9834, 9835, 9843, 9844, 9845, 9846, 9847], 504: [9875, 9879, 9880, 9881, 9882, 9883, 9884, 9885, 9887, 9888, 9889, 9890, 9892, 9894, 9895, 9896], 505: [9898, 9899, 9900, 9901, 9904, 9905, 9912, 9913, 9918, 9921, 9922, 9923], 601: [9927, 9928, 9931, 9932, 9933, 9934, 9935, 9936], 602: [9937, 9938, 9939, 9940, 9941, 9942, 9943, 9944], 603: [9947, 9948, 9949, 9950, 9951, 9952, 9953, 9954], 604: [9956, 9957, 9958, 9959, 9960, 9961, 9962, 9963], 605: [9965, 9968, 9970, 9974, 9975, 9976, 9977, 9978], 701: [9981, 9984, 9985, 9986, 9987, 9988, 9989, 9990], 702: [9992, 9993, 9994, 9995, 9996, 9997, 9998, 9999], 801: [10012, 10013, 10014], 802: [10015, 10016, 10017], 901: [10021, 10034, 10035, 10036], 902: [10038, 10039, 10040], 1001: [10044, 10045, 10046, 10047, 10048, 10049, 10050, 10051], 1002: [10052, 10055, 10056, 10057, 10058, 10059], 1101: [10069, 10070, 10072, 10073, 10074, 10075, 10076, 10077], 1102: [10080, 10081, 10082, 10083, 10084, 10085, 10086], 1201: [10093, 10093, 10094], 1202: [10095, 10096]}, 'S2': {199: [9577, 9578, 9579, 9580, 9581], 100: [9564, 9565, 9567, 9568, 9570], 101: [9574], 201: [9587, 9588, 9590], 202: [9591, 9592, 9593, 9594], 203: [9595, 9596, 9602], 301: [9609, 9611, 9613, 9614, 9615, 9616], 401: [9620, 9621, 9622, 9624, 9625, 9627, 9628, 9629, 9630], 402: [9631, 9632, 9633, 9636, 9637, 9638, 9639], 403: [9640, 9642, 9644, 9645, 9646], 204: [9672, 9673, 9674], 406: [9677, 9678, 9679, 9680, 9694], 407: [9683, 9684, 9685, 9686, 9687, 9688, 9689, 9691, 9692, 9693], 408: [9695, 9696, 9698], 409: [9701, 9702, 9703], 410: [9704, 9705], 411: [9721, 9722, 9723, 9728, 9729, 9730, 9731, 9732, 9733], 412: [9734, 9735, 9736, 9737, 9738], 205: [9742, 9743, 9744, 9745], 206: [9746, 9747, 9748, 9750], 413: [9761, 9762, 9763, 9764, 9765, 9766, 9767, 9768, 9769, 9775], 414: [9777, 9778, 9779, 9780, 9781, 9782, 9783, 9784, 9786], 501: [9796, 9797, 9798, 9799, 9800, 9801, 9802, 9803, 9804, 9805], 502: [9807, 9817, 9818, 9819, 9820, 9821, 9822, 9823, 9824, 9825], 503: [9828, 9829, 9833, 9834, 9835, 9843, 9844, 9845, 9846, 9847], 504: [9875, 9879, 9880, 9881, 9882, 9883, 9884, 9885, 9887, 9888, 9889, 9890, 9892, 9894, 9895, 9896], 505: [9898, 9899, 9900, 9901, 9904, 9905, 9912, 9913, 9918, 9921, 9922, 9923], 601: [9927, 9928, 9931, 9932, 9933, 9934, 9935], 602: [9937, 9938, 9939, 9940, 9941, 9942, 9943, 9944], 603: [9947, 9948, 9949, 9950, 9951, 9952, 9953, 9954], 604: [9956, 9957, 9958, 9959, 9960, 9961, 9962, 9963], 605: [9965, 9968, 9970, 9974, 9975, 9976, 9977, 9978], 701: [9981, 9984, 9985, 9986, 9987, 9988, 9989, 9990], 702: [9992, 9993, 9994, 9995, 9996, 9997, 9998, 9999], 801: [10012, 10013, 10014], 802: [10015, 10016, 10017], 901: [10021, 10034, 10035, 10036], 902: [10038, 10039, 10040], 1001: [10044, 10045, 10046, 10047, 10048, 10049, 10050, 10051], 1002: [10052, 10055, 10056, 10058, 10059], 1101: [10069, 10070, 10071, 10072, 10073, 10074, 10075, 10076, 10077], 1102: [10080, 10081, 10082, 10083, 10084, 10085, 10086]}}\n",
      "[INFO] - \t dictionary of the batches: \n",
      "{199: <SensorClasses.Batch object at 0x7f54dfa5e1a0>, 100: <SensorClasses.Batch object at 0x7f54dfa5e320>, 101: <SensorClasses.Batch object at 0x7f5523c76080>, 201: <SensorClasses.Batch object at 0x7f54dfaa4490>, 202: <SensorClasses.Batch object at 0x7f54dfaa4b50>, 203: <SensorClasses.Batch object at 0x7f54dfaa5240>, 301: <SensorClasses.Batch object at 0x7f54dfaa5900>, 401: <SensorClasses.Batch object at 0x7f54dfaa6050>, 402: <SensorClasses.Batch object at 0x7f54dfaa6830>, 403: <SensorClasses.Batch object at 0x7f54dfaa7010>, 204: <SensorClasses.Batch object at 0x7f54dfaa7730>, 406: <SensorClasses.Batch object at 0x7f54dfaa7df0>, 407: <SensorClasses.Batch object at 0x7f54dfac4550>, 408: <SensorClasses.Batch object at 0x7f54dfac4d60>, 409: <SensorClasses.Batch object at 0x7f54dfac5420>, 410: <SensorClasses.Batch object at 0x7f54dfac5ae0>, 411: <SensorClasses.Batch object at 0x7f54dfac6170>, 412: <SensorClasses.Batch object at 0x7f54dfac6980>, 205: <SensorClasses.Batch object at 0x7f54dfac70a0>, 206: <SensorClasses.Batch object at 0x7f54dfac7790>, 413: <SensorClasses.Batch object at 0x7f54dfac7e80>, 414: <SensorClasses.Batch object at 0x7f54dfadc6d0>, 501: <SensorClasses.Batch object at 0x7f54dfadcee0>, 502: <SensorClasses.Batch object at 0x7f54dfadd6f0>, 503: <SensorClasses.Batch object at 0x7f54dfaddf00>, 504: <SensorClasses.Batch object at 0x7f54dfade710>, 505: <SensorClasses.Batch object at 0x7f54dfadf040>, 601: <SensorClasses.Batch object at 0x7f54dfadf8e0>, 602: <SensorClasses.Batch object at 0x7f54dfaf80d0>, 603: <SensorClasses.Batch object at 0x7f54dfaf8880>, 604: <SensorClasses.Batch object at 0x7f54dfaf9030>, 605: <SensorClasses.Batch object at 0x7f54dfaf97e0>, 701: <SensorClasses.Batch object at 0x7f54dfaf9f90>, 702: <SensorClasses.Batch object at 0x7f54dfafa740>, 801: <SensorClasses.Batch object at 0x7f54dfafaef0>, 802: <SensorClasses.Batch object at 0x7f54dfafb5b0>, 901: <SensorClasses.Batch object at 0x7f54dfafbc70>, 902: <SensorClasses.Batch object at 0x7f54dfb143a0>, 1001: <SensorClasses.Batch object at 0x7f54dfb14a60>, 1002: <SensorClasses.Batch object at 0x7f54dfb15210>, 1101: <SensorClasses.Batch object at 0x7f54dfb15960>, 1102: <SensorClasses.Batch object at 0x7f54dfb16140>, 1201: <SensorClasses.Batch object at 0x7f54dfb168c0>, 1202: <SensorClasses.Batch object at 0x7f54dfb16f80>, 1301: <SensorClasses.Batch object at 0x7f54dfb17610>, 1302: <SensorClasses.Batch object at 0x7f54dfb17c70>, 1303: <SensorClasses.Batch object at 0x7f54dfb30310>, 1304: <SensorClasses.Batch object at 0x7f54dfb309a0>, 1305: <SensorClasses.Batch object at 0x7f54dfb31030>, 1306: <SensorClasses.Batch object at 0x7f54dfb316f0>}\n"
     ]
    }
   ],
   "source": [
    "PIXEL_SIZE = 0.0185 #mm\n",
    "\n",
    "### choose the bins so that they match the MIMOSA pixels (which are just the coordinates)\n",
    "### I should just have many options for ranges and choose between those\n",
    "large_bins = (np.arange(0, 900,1),\n",
    "              np.arange(0, 900,1))\n",
    "\n",
    "bins1 = (np.arange(450, 700, 1),\n",
    "        np.arange(150, 450, 1))\n",
    "\n",
    "bins2 = (np.arange(500, 650, 1),\n",
    "              np.arange(200, 450, 1))\n",
    "\n",
    "### Load the dictionary of sensor names and runs\n",
    "sensors_list = read_pickle(\"sensors_list.pickle\")  ### I still need the sensor_list for now\n",
    "dict_of_runs = read_pickle(\"dict_of_runs.pickle\")\n",
    "dict_of_batches = read_pickle(\"dict_of_batches.pickle\")\n",
    "\n",
    "logging.info(f\"dictionary of the runs: \\n{dict_of_runs}\")\n",
    "logging.info(f\"dictionary of the batches: \\n{dict_of_batches}\")\n",
    "\n",
    "### branches to be loaded (+ unnecessary columns)\n",
    "branches = [\"eventNumber\", \"Xtr\", \"Ytr\", \"pulseHeight\", \"charge\", \"timeCFD20\", \"timeCFD50\", \"timeCFD70\"]\n",
    "columns_to_remove = [\"Xtr_4\",\"Xtr_5\",\"Xtr_6\",\"Xtr_7\",\"Ytr_4\",\"Ytr_5\",\"Ytr_6\",\"Ytr_7\"]"
   ]
  },
  {
   "cell_type": "markdown",
   "id": "a0d2b33a",
   "metadata": {},
   "source": [
    "## Charge plot"
   ]
  },
  {
   "cell_type": "code",
   "execution_count": 5,
   "id": "0ea6c56b",
   "metadata": {},
   "outputs": [
    {
     "name": "stderr",
     "output_type": "stream",
     "text": [
      "[INFO] - \t Loading batch 301 \t Oscilloscope S1\n"
     ]
    }
   ],
   "source": [
    "this_batch = 301\n",
    "this_scope = 'S1'\n",
    "df = load_batch(this_batch, this_scope)\n"
   ]
  },
  {
   "cell_type": "code",
   "execution_count": 6,
   "id": "8287f610",
   "metadata": {},
   "outputs": [
    {
     "ename": "NameError",
     "evalue": "name 'DUTs' is not defined",
     "output_type": "error",
     "traceback": [
      "\u001b[0;31m---------------------------------------------------------------------------\u001b[0m",
      "\u001b[0;31mNameError\u001b[0m                                 Traceback (most recent call last)",
      "\u001b[0;32m/tmp/ipykernel_81864/2510329197.py\u001b[0m in \u001b[0;36m<module>\u001b[0;34m\u001b[0m\n\u001b[0;32m----> 1\u001b[0;31m \u001b[0mmins\u001b[0m \u001b[0;34m=\u001b[0m \u001b[0;34m[\u001b[0m\u001b[0mfind_min_btw_peaks\u001b[0m\u001b[0;34m(\u001b[0m\u001b[0mdf\u001b[0m\u001b[0;34m[\u001b[0m\u001b[0;34mf\"pulseHeight_{i}\"\u001b[0m\u001b[0;34m]\u001b[0m\u001b[0;34m,\u001b[0m \u001b[0mbins\u001b[0m\u001b[0;34m=\u001b[0m\u001b[0;34m'rice'\u001b[0m\u001b[0;34m,\u001b[0m \u001b[0mplot\u001b[0m\u001b[0;34m=\u001b[0m\u001b[0;32mFalse\u001b[0m\u001b[0;34m)\u001b[0m \u001b[0;32mfor\u001b[0m \u001b[0mi\u001b[0m \u001b[0;32min\u001b[0m \u001b[0mDUTs\u001b[0m\u001b[0;34m]\u001b[0m\u001b[0;34m\u001b[0m\u001b[0;34m\u001b[0m\u001b[0m\n\u001b[0m",
      "\u001b[0;31mNameError\u001b[0m: name 'DUTs' is not defined"
     ]
    }
   ],
   "source": [
    "mins = [find_min_btw_peaks(df[f\"pulseHeight_{i}\"], bins='rice', plot=False) for i in DUTs]"
   ]
  },
  {
   "cell_type": "code",
   "execution_count": null,
   "id": "c79c3348",
   "metadata": {},
   "outputs": [],
   "source": [
    "### make it into an interactive plot???? mmm.. not really working\n",
    "### I should probably add it to plot()\n",
    "DUTs = [1,2,3]\n",
    "\n",
    "xlim = (-10e3,0)\n",
    "\n",
    "fig, axes = plt.subplots(figsize=(8*len(DUTs),8), ncols=len(DUTs), dpi=150)#, sharey=True )\n",
    "for i,dut in enumerate(DUTs):\n",
    "\n",
    "    info = time_mask(df, dut, bins=10000, plot=False)[1]\n",
    "    left_base, right_base = info['left_base'], info['right_base']\n",
    "    \n",
    "    pulse_cut = mins[i]\n",
    "    time_array = np.array(df[f'timeCFD50_{dut}']-df[f'timeCFD20_0'])\n",
    "    pulseheight_array = np.array(df[f'pulseHeight_{dut}'])\n",
    "    axes[i].plot(time_array, pulseheight_array, '.', markersize=0.8)\n",
    "    \n",
    "    axes[i].set_xlim(xlim)\n",
    "    ylim = axes[i].get_ylim()\n",
    "    \n",
    "    total = len(time_array)/100  ### so I get percentage directly\n",
    "    axes[i].annotate(f\"%.3f\"%(len(time_array[np.logical_and(time_array<left_base, pulseheight_array<pulse_cut)])/total)+\"%\", ((xlim[0]+left_base)/2, -25), fontsize=16)\n",
    "    axes[i].annotate(f\"%.3f\"%(len(time_array[np.logical_and(time_array>right_base, pulseheight_array<pulse_cut)])/total)+\"%\", ((right_base+xlim[1])/2, -25), fontsize=16)\n",
    "    axes[i].annotate(f\"%.3f\"%(len(time_array[np.logical_and(np.logical_and(time_array>left_base, time_array<right_base), pulseheight_array<pulse_cut)])/total)+\"%\", ((right_base+left_base)/2, -25), fontsize=16)\n",
    "\n",
    "    axes[i].annotate(f\"%.3f\"%(len(time_array[np.logical_and(time_array<left_base, pulseheight_array>pulse_cut)])/total)+\"%\", ((xlim[0]+left_base)/2, (pulse_cut+ylim[1])/2), fontsize=16)\n",
    "    axes[i].annotate(f\"%.3f\"%(len(time_array[np.logical_and(time_array>right_base, pulseheight_array>pulse_cut)])/total)+\"%\", ((right_base+xlim[1])/2, (pulse_cut+ylim[1])/2+20), fontsize=16)\n",
    "    axes[i].annotate(f\"%.3f\"%(len(time_array[np.logical_and(np.logical_and(time_array>left_base, time_array<right_base), pulseheight_array>pulse_cut)])/total)+\"%\", ((right_base+left_base)/2, (pulse_cut+ylim[1])/2+50), fontsize=16)\n",
    "\n",
    "    axes[i].axhline(pulse_cut,color='r', label=\"PulseHeight cut value: %.1f mV\"%pulse_cut)\n",
    "    axes[i].axvline(left_base, color='g', alpha=.9, label=\"Time cut: %.0fps$<\\Delta t<$ %.0fps\"%(left_base, right_base))\n",
    "    axes[i].axvline(right_base, color='g', alpha=.9)\n",
    "    axes[i].set_xlabel(f\"$\\Delta t$ [ps] (DUT {dut} - MCP)\", fontsize=16)\n",
    "    axes[i].set_ylabel(f\"PulseHeight [mV]\", fontsize=16)\n",
    "    axes[i].grid('-')\n",
    "#     axes[i].set_xlim(-7e3,-4e3)\n",
    "    axes[i].legend(fontsize=16, loc='upper center', framealpha=0)\n",
    "    axes[i].set_title(f\"Sensor: {sensors_list[this_batch][this_scope][f'Ch{dut+1}']}\", fontsize=16)\n",
    "    \n",
    "for ax in axes:\n",
    "    ax.sharey(axes[0])\n",
    "\n",
    "fig.suptitle(f\"PulseHeight vs $\\Delta t$ \\t Batch:{this_batch} {this_scope} \", fontsize=24)\n",
    "# fig.savefig(f\"../various plots/pulseHeight_vs_deltat_{this_batch}_{this_scope}_{DUTs}.jpg\") ### svg is way too big"
   ]
  },
  {
   "cell_type": "markdown",
   "id": "75265539",
   "metadata": {},
   "source": [
    "### Plotting three different cuts (pulseHeight, geometric and time) and comparing them with each other\n",
    "and now fitting with the charge too"
   ]
  },
  {
   "cell_type": "code",
   "execution_count": null,
   "id": "739e245e",
   "metadata": {},
   "outputs": [],
   "source": [
    "DO_FIT = False\n",
    "### colors   0   1   2   3     4      5         6\n",
    "colormap = ['k','r','g','b','cyan','yellow','magenta']\n",
    "color_geo, color_pulse, color_time = 'magenta', 'cyan', 'yellow'\n",
    "\n",
    "transimpedance = [dict_of_batches[this_batch].S[this_scope].get_sensor(f'ch{dut+1}').transimpedance for dut in DUTs]\n",
    "time_cuts = [time_mask(df, dut, bins=5000, plot=False)[0] for dut in DUTs]\n",
    "geo_cuts = [geometry_mask(df, bins=bins1, bins_find_min='rice', DUT_number=dut) for dut in DUTs]\n",
    "pulse_cuts = [df[f'pulseHeight_{dut}']>mins[dut-1] for dut in DUTs]\n",
    "dut = 1\n",
    "\n",
    "fig, axes = plt.subplots(nrows=1, ncols=3, figsize=(3*9,8), dpi=200)\n",
    "for i in range(3):\n",
    "    hist,my_bins,_,_,_ = plot_histogram(df[f'charge_{dut}']/transimpedance[dut-1], bins='auto',\n",
    "                                          color=colormap[0], label=f\"Ch{dut+1} no cut\",\n",
    "                                          fig_ax=(fig,axes[i]))\n",
    "bins_centers = (my_bins[1:]+my_bins[:-1])/2\n",
    "bins_centers = bins_centers.astype(np.float64)\n",
    "legend_text = []\n",
    "### --------------------------------\n",
    "hist_time_cut,_,_,_,_ = plot_histogram(df[f'charge_{dut}'].loc[time_cuts[dut-1]]/transimpedance[dut-1], bins=my_bins,\n",
    "                                       histtype='stepfilled', color=color_time, alpha=1, label=f\"Ch{dut+1} time cut\",\n",
    "                                       fig_ax=(fig,axes[0]))\n",
    "\n",
    "hist_geo_cut,_,_,_,_ = plot_histogram(df[f'charge_{dut}'].loc[geo_cuts[dut-1]]/transimpedance[dut-1], bins=my_bins,\n",
    "                                       histtype='stepfilled', color=color_geo, alpha=0.5, label=f\"Ch{dut+1} geo cut\",\n",
    "                                       fig_ax=(fig,axes[0]))\n",
    "\n",
    "hist_geo_time_cut,_,_,_,_ = plot_histogram(df[f'charge_{dut}'].loc[np.logical_and(geo_cuts[dut-1],time_cuts[dut-1])]/transimpedance[dut-1], bins=my_bins,\n",
    "                                       histtype='step', color=colormap[1], alpha=1, label=f\"Ch{dut+1} geo and time cut\",\n",
    "                                       fig_ax=(fig,axes[0]))\n",
    "\n",
    "if DO_FIT:\n",
    "    param, covariance = curve_fit(pylandau.langau, bins_centers, hist_geo_time_cut, p0=(10,1,1,np.max(hist_geo_time_cut)))\n",
    "    axes[0].plot(bins_centers, pylandau.langau(bins_centers, *param),color='k', label=\"Landau*Gaussian fit\")\n",
    "    legend_text.append(\"MPV: %.2f, $\\eta$: %.2f, $\\sigma$: %.2f\" %(param[0],param[1], param[2])) # only two decimals\n",
    "\n",
    "### --------------------------------\n",
    "hist_geo_cut,_,_,_,_ = plot_histogram(df[f'charge_{dut}'].loc[geo_cuts[dut-1]]/transimpedance[dut-1], bins=my_bins,\n",
    "                                       histtype='stepfilled', color=color_geo, alpha=1, label=f\"Ch{dut+1} geo cut\",\n",
    "                                       fig_ax=(fig,axes[1]))\n",
    "\n",
    "hist_pulse_cut,_,_,_,_ = plot_histogram(df[f'charge_{dut}'].loc[pulse_cuts[dut-1]]/transimpedance[dut-1], bins=my_bins,\n",
    "                                       histtype='stepfilled', color=color_pulse, alpha=0.5, label=f\"Ch{dut+1} pulse cut\",\n",
    "                                       fig_ax=(fig,axes[1]))\n",
    "\n",
    "hist_geo_pulse_cut,_,_,_,_ = plot_histogram(df[f'charge_{dut}'].loc[np.logical_and(geo_cuts[dut-1],pulse_cuts[dut-1])]/transimpedance[dut-1], bins=my_bins,\n",
    "                                       histtype='step', color=colormap[3], alpha=1, label=f\"Ch{dut+1} geo and pulse cut\",\n",
    "                                       fig_ax=(fig,axes[1]))\n",
    "if DO_FIT:\n",
    "    param, covariance = curve_fit(pylandau.langau, bins_centers, hist_geo_pulse_cut, p0=(10,1,1,np.max(hist_geo_pulse_cut)))\n",
    "    axes[1].plot(bins_centers, pylandau.langau(bins_centers, *param), color='k', label=\"Landau*Gaussian fit\")\n",
    "    legend_text.append(\"MPV: %.2f, $\\eta$: %.2f, $\\sigma$: %.2f\" %(param[0],param[1], param[2])) # only two decimals\n",
    "\n",
    "### --------------------------------\n",
    "\n",
    "hist_time_cut,_,_,_,_ = plot_histogram(df[f'charge_{dut}'].loc[time_cuts[dut-1]]/transimpedance[dut-1], bins=my_bins,\n",
    "                                       histtype='stepfilled', color=color_time, alpha=1, label=f\"Ch{dut+1} time cut\",\n",
    "                                       fig_ax=(fig,axes[2]))\n",
    "\n",
    "hist_pulse_cut,_,_,_,_ = plot_histogram(df[f'charge_{dut}'].loc[pulse_cuts[dut-1]]/transimpedance[dut-1], bins=my_bins,\n",
    "                                       histtype='stepfilled', color=color_pulse, alpha=.7, label=f\"Ch{dut+1} pulse cut\",\n",
    "                                       fig_ax=(fig,axes[2]))\n",
    "\n",
    "hist_pulse_time_cut,_,_,_,_ = plot_histogram(df[f'charge_{dut}'].loc[np.logical_and(geo_cuts[dut-1],pulse_cuts[dut-1])]/transimpedance[dut-1], bins=my_bins,\n",
    "                                       histtype='step', color=colormap[2], alpha=1, label=f\"Ch{dut+1} pulse and time cut\",\n",
    "                                       fig_ax=(fig,axes[2]))\n",
    "\n",
    "if DO_FIT:\n",
    "    legend_text.append(\"MPV: %.2f, $\\eta$: %.2f, $\\sigma$: %.2f\" %(param[0],param[1], param[2])) # only two decimals\n",
    "    param, covariance = curve_fit(pylandau.langau, bins_centers, hist_pulse_time_cut, p0=(10,1,1,np.max(hist_pulse_time_cut)))\n",
    "    axes[2].plot(bins_centers, pylandau.langau(bins_centers, *param), color='k', label=\"Landau*Gaussian fit\")\n",
    "\n",
    "for i in range(3):\n",
    "    axes[i].semilogy()\n",
    "    axes[i].set_xlim(-10,50)\n",
    "    axes[i].set_ylim(0.1,1e6)\n",
    "    axes[i].set_xlabel(\"Charge [fC]\", fontsize=16)\n",
    "    axes[i].set_ylabel(\"Events (log)\", fontsize=16)\n",
    "    handles, labels = axes[i].get_legend_handles_labels()\n",
    "    if DO_FIT: handles.append(mpatches.Patch(color='none', label=legend_text[i]))\n",
    "    axes[i].legend(handles=handles, fontsize=16);\n",
    "    \n",
    "fig.suptitle(f\"Charge plot batch:{this_batch}, {this_scope}, Ch{dut+1} \\n comparison between different cuts\", fontsize=20)\n",
    "# fig.savefig(f\"../various plots/Charge_plot_comparison_{this_batch}_{this_scope}_Ch{dut+1}.jpg\")"
   ]
  },
  {
   "cell_type": "code",
   "execution_count": null,
   "id": "268750bc",
   "metadata": {},
   "outputs": [],
   "source": [
    "dut = 2\n",
    "charge_fit(df, dut=dut, mask=np.logical_and(geo_cuts[dut-1],pulse_cuts[dut-1]), transimpedance=transimpedance[dut-1], plot=False)"
   ]
  },
  {
   "cell_type": "markdown",
   "id": "8783196e",
   "metadata": {},
   "source": [
    "### Now I really need to automatically calculate the charge"
   ]
  },
  {
   "cell_type": "code",
   "execution_count": 1,
   "id": "5634e2fe",
   "metadata": {},
   "outputs": [
    {
     "ename": "NameError",
     "evalue": "name 'plt' is not defined",
     "output_type": "error",
     "traceback": [
      "\u001b[0;31m---------------------------------------------------------------------------\u001b[0m",
      "\u001b[0;31mNameError\u001b[0m                                 Traceback (most recent call last)",
      "\u001b[0;32m/tmp/ipykernel_81864/2178586931.py\u001b[0m in \u001b[0;36m<module>\u001b[0;34m\u001b[0m\n\u001b[1;32m      1\u001b[0m \u001b[0mthis_DUT\u001b[0m \u001b[0;34m=\u001b[0m \u001b[0;36m1\u001b[0m\u001b[0;34m\u001b[0m\u001b[0;34m\u001b[0m\u001b[0m\n\u001b[1;32m      2\u001b[0m \u001b[0;34m\u001b[0m\u001b[0m\n\u001b[0;32m----> 3\u001b[0;31m \u001b[0mfig\u001b[0m\u001b[0;34m,\u001b[0m \u001b[0max\u001b[0m \u001b[0;34m=\u001b[0m \u001b[0mplt\u001b[0m\u001b[0;34m.\u001b[0m\u001b[0msubplots\u001b[0m\u001b[0;34m(\u001b[0m\u001b[0mfigsize\u001b[0m\u001b[0;34m=\u001b[0m\u001b[0;34m(\u001b[0m\u001b[0;36m14\u001b[0m\u001b[0;34m,\u001b[0m\u001b[0;36m8\u001b[0m\u001b[0;34m)\u001b[0m\u001b[0;34m)\u001b[0m\u001b[0;34m\u001b[0m\u001b[0;34m\u001b[0m\u001b[0m\n\u001b[0m\u001b[1;32m      4\u001b[0m \u001b[0;31m# ax.axvline(x=charge_threshold, color='r', label=f'threshold charge: {charge_threshold}fC')\u001b[0m\u001b[0;34m\u001b[0m\u001b[0;34m\u001b[0m\u001b[0m\n\u001b[1;32m      5\u001b[0m \u001b[0;34m\u001b[0m\u001b[0m\n",
      "\u001b[0;31mNameError\u001b[0m: name 'plt' is not defined"
     ]
    }
   ],
   "source": [
    "this_DUT = 1\n",
    "\n",
    "fig, ax = plt.subplots(figsize=(14,8))\n",
    "# ax.axvline(x=charge_threshold, color='r', label=f'threshold charge: {charge_threshold}fC')\n",
    "\n",
    "hist_geo_time_cut,_,_,_,_ = plot_histogram((df[f'charge_{dut}'].loc[np.logical_and(geo_cuts[dut-1],time_cuts[dut-1])]/transimpedance[dut-1]), bins=my_bins,\n",
    "                                       histtype='step', color=colormap[1], alpha=1, label=f\"Ch{dut+1} geo and time cut\",\n",
    "                                       fig_ax=(fig,ax))\n",
    "\n",
    "bins_centers = (my_bins[1:]+my_bins[:-1])/2\n",
    "# bins_centers = bins_centers.astype(np.float64)\n",
    "\n",
    "param, covariance = curve_fit(pylandau.langau, bins_centers, hist_geo_time_cut, p0=(5,1,1,np.max(hist_geo_time_cut)))\n",
    "# print(param) \n",
    "ax.plot(bins_centers, pylandau.langau(bins_centers, *param), label=\"Landau*Gaussian fit\")\n",
    "ax.semilogy()\n",
    "\n",
    "ax.set_xlim(-10, 50)\n",
    "ax.set_ylim(0.1,1e6)\n",
    "ax.set_xlabel(\"Charge [fC]\", fontsize=20)\n",
    "ax.set_ylabel(\"Events\", fontsize=20)\n",
    "ax.set_title(f\"Charge distribution and Landau*Gaussian fit, Ch2\", fontsize=24, y=1.05)\n",
    "ax.grid('--')\n",
    "legend_text = \"MPV: %.2f, $\\eta$: %.2f, $\\sigma$: %.2f\" %(param[0],param[1], param[2]) # only two decimals\n",
    "handles, labels = ax.get_legend_handles_labels()\n",
    "handles.append(mpatches.Patch(color='none', label=legend_text))\n",
    "ax.legend(handles=handles, fontsize=20);\n",
    "# fig.savefig(f\"../various plots/Charge_distribution_fit_Ch2_{this_batch}.svg\",bbox_inches='tight')\n"
   ]
  },
  {
   "cell_type": "code",
   "execution_count": null,
   "id": "fce7e465",
   "metadata": {},
   "outputs": [],
   "source": []
  },
  {
   "cell_type": "code",
   "execution_count": null,
   "id": "0372314b",
   "metadata": {},
   "outputs": [],
   "source": []
  }
 ],
 "metadata": {
  "kernelspec": {
   "display_name": "Python 3 (ipykernel)",
   "language": "python",
   "name": "python3"
  },
  "language_info": {
   "codemirror_mode": {
    "name": "ipython",
    "version": 3
   },
   "file_extension": ".py",
   "mimetype": "text/x-python",
   "name": "python",
   "nbconvert_exporter": "python",
   "pygments_lexer": "ipython3",
   "version": "3.10.12"
  }
 },
 "nbformat": 4,
 "nbformat_minor": 5
}
