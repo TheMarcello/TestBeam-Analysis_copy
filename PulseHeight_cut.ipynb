{
 "cells": [
  {
   "cell_type": "code",
   "execution_count": 1,
   "id": "c430fffb",
   "metadata": {},
   "outputs": [
    {
     "name": "stderr",
     "output_type": "stream",
     "text": [
      "/usr/lib/python3/dist-packages/scipy/__init__.py:146: UserWarning: A NumPy version >=1.17.3 and <1.25.0 is required for this version of SciPy (detected version 1.25.2\n",
      "  warnings.warn(f\"A NumPy version >={np_minversion} and <{np_maxversion}\"\n"
     ]
    }
   ],
   "source": [
    "import numpy as np # NumPy\n",
    "import matplotlib.pylab as plt # Matplotlib plots\n",
    "import matplotlib.patches as mpatches\n",
    "import pandas as pd # Pandas\n",
    "import uproot\n",
    "import pickle\n",
    "\n",
    "import awkward as ak\n",
    "import mplhep as hep\n",
    "import argparse     # to get arguments from command line executing file.py\n",
    "import os # read directories etc.\n",
    "from scipy.signal import find_peaks, gaussian\n",
    "from scipy.optimize import curve_fit\n",
    "from scipy.stats import gaussian_kde\n",
    "import pylandau\n",
    "import re\n",
    "import copy\n",
    "\n",
    "from LoadBatch import *\n",
    "\n",
    "verbose = False\n",
    "debug = False"
   ]
  },
  {
   "cell_type": "code",
   "execution_count": 2,
   "id": "4fec7711",
   "metadata": {},
   "outputs": [
    {
     "name": "stdout",
     "output_type": "stream",
     "text": [
      "'CERN Testbeam May 2023 - RunLog.csv'   configs   plots   S1   S2\r\n"
     ]
    }
   ],
   "source": [
    "pd.set_option('display.max_columns', None)\n",
    "\n",
    "!ls ../Data_TestBeam/2023_May/"
   ]
  },
  {
   "cell_type": "code",
   "execution_count": 3,
   "id": "26d86c35",
   "metadata": {},
   "outputs": [],
   "source": [
    "# make list of files (merge.root)       v\n",
    "# what are the variables that change for each file?\n",
    "\n",
    "# (have a list of transimpedance values?)\n",
    "\n",
    "# save the charge value from the fit"
   ]
  },
  {
   "cell_type": "code",
   "execution_count": 4,
   "id": "4d9ede53",
   "metadata": {},
   "outputs": [],
   "source": [
    "plt.style.use(hep.atlas.style.ATLAS)"
   ]
  },
  {
   "cell_type": "code",
   "execution_count": 5,
   "id": "6037bec3",
   "metadata": {
    "scrolled": true
   },
   "outputs": [
    {
     "ename": "NameError",
     "evalue": "name 'branches' is not defined",
     "output_type": "error",
     "traceback": [
      "\u001b[0;31m---------------------------------------------------------------------------\u001b[0m",
      "\u001b[0;31mNameError\u001b[0m                                 Traceback (most recent call last)",
      "\u001b[0;32m/tmp/ipykernel_50231/2035063387.py\u001b[0m in \u001b[0;36m<module>\u001b[0;34m\u001b[0m\n\u001b[1;32m      4\u001b[0m \u001b[0mfile\u001b[0m \u001b[0;34m=\u001b[0m \u001b[0;34m\"../Data_TestBeam/2022_October/batch302/merged_tracking_scope.root\"\u001b[0m\u001b[0;34m\u001b[0m\u001b[0;34m\u001b[0m\u001b[0m\n\u001b[1;32m      5\u001b[0m \u001b[0;34m\u001b[0m\u001b[0m\n\u001b[0;32m----> 6\u001b[0;31m \u001b[0mother_df\u001b[0m \u001b[0;34m=\u001b[0m \u001b[0mroot_to_df\u001b[0m\u001b[0;34m(\u001b[0m\u001b[0mfile\u001b[0m\u001b[0;34m,\u001b[0m \u001b[0mbranches\u001b[0m\u001b[0;34m)\u001b[0m\u001b[0;34m\u001b[0m\u001b[0;34m\u001b[0m\u001b[0m\n\u001b[0m\u001b[1;32m      7\u001b[0m \u001b[0mother_df\u001b[0m\u001b[0;34m\u001b[0m\u001b[0;34m\u001b[0m\u001b[0m\n",
      "\u001b[0;31mNameError\u001b[0m: name 'branches' is not defined"
     ]
    }
   ],
   "source": [
    "file = \"../Data_TestBeam/2020_September/tree_September2020_106_000387.root\"\n",
    "file = \"../Data_TestBeam/2022_February/tree_February2022_502_000822.root\"\n",
    "file = \"../Data_TestBeam/2022_March/merge_March2022_201.root\"\n",
    "file = \"../Data_TestBeam/2022_October/batch302/merged_tracking_scope.root\"\n",
    "\n",
    "other_df = root_to_df(file, branches)\n",
    "other_df"
   ]
  },
  {
   "cell_type": "code",
   "execution_count": null,
   "id": "760215a4",
   "metadata": {},
   "outputs": [],
   "source": [
    "fig, axes = plt.subplots(nrows=1, ncols=5, figsize=(20,10), dpi=300)#, sharex='all', sharey='all')\n",
    "fig.tight_layout(w_pad=6, h_pad=6)\n",
    "bins=((0,500), (0,500))\n",
    "\n",
    "for i in range(5):\n",
    "    Xtr = other_df[f\"Xtr_{i}\"].iloc[np.where(other_df[f\"Xtr_{i}\"]!=-9999)]\n",
    "    Ytr = other_df[f\"Ytr_{i}\"].iloc[np.where(other_df[f\"Ytr_{i}\"]!=-9999)]\n",
    "    hist, _, _, _, = axes[i].hist2d(Xtr, Ytr, bins=bins)\n",
    "\n",
    "    axes[i].set_aspect('equal')\n",
    "    axes[i].set_xlabel('pixels', fontsize=20)\n",
    "    axes[i].set_ylabel('pixels', fontsize=20)\n"
   ]
  },
  {
   "cell_type": "code",
   "execution_count": null,
   "id": "cb80e5a0",
   "metadata": {},
   "outputs": [],
   "source": []
  },
  {
   "cell_type": "code",
   "execution_count": null,
   "id": "0ff79247",
   "metadata": {},
   "outputs": [],
   "source": []
  },
  {
   "cell_type": "code",
   "execution_count": null,
   "id": "589bed92",
   "metadata": {},
   "outputs": [],
   "source": [
    "transimpedance = 4700 #ohm\n",
    "\n",
    "# Load the dataframe of sensor names\n",
    "sensor_list = read_sensors(\"sensors_list.pickle\")\n",
    "# sensor_list_file = \"sensors_list.pickle\"\n",
    "# with open(sensor_list_file, 'rb') as f:\n",
    "#     sensors_list = pickle.load(f)\n",
    "    \n",
    "if verbose: print(sensors_list)\n",
    "\n",
    "\n",
    "# I wanna save data from both scopes\n",
    "# this_batch = 301\n",
    "this_batch = 101\n",
    "branches = [\"eventNumber\", \"Xtr\", \"Ytr\", \"pulseHeight\", \"charge\", \"timeCFD20\", \"timeCFD50\", \"timeCFD70\"]\n",
    "# columns_to_remove = [\"Xtr_4\",\"Xtr_5\",\"Xtr_6\",\"Xtr_7\",\"Ytr_4\",\"Ytr_5\",\"Ytr_6\",\"Ytr_7\"]\n",
    "dir_path = {} \n",
    "df = {}  # dictionary containing the two dataframes of the two oscilloscopes\n",
    "\n",
    "for S in [\"S1\",\"S2\"]: # the two scopes\n",
    "    dir_path[S] = f\"../Data_TestBeam/2023_May/{S}/\"\n",
    "    file_path = f\"tree_May2023_{S}_{this_batch}.root\"    \n",
    "    df[S] = root_to_df(os.path.join(dir_path[S], file_path), branches)\n",
    "#     df[S] = df[S].drop(columns=columns_to_remove)"
   ]
  },
  {
   "cell_type": "code",
   "execution_count": null,
   "id": "4ca3f8af",
   "metadata": {},
   "outputs": [],
   "source": [
    "df[\"S1\"]"
   ]
  },
  {
   "cell_type": "code",
   "execution_count": null,
   "id": "98820a66",
   "metadata": {
    "scrolled": false
   },
   "outputs": [],
   "source": [
    "fig, ax = plot_histogram(df[\"S1\"][\"Xtr_0\"])\n",
    "add_histogram(ax, df[\"S1\"][\"Xtr_1\"])\n",
    "add_histogram(ax, df[\"S1\"][\"Xtr_2\"])\n",
    "# ax.semilogy()"
   ]
  },
  {
   "cell_type": "code",
   "execution_count": null,
   "id": "023406f4",
   "metadata": {},
   "outputs": [],
   "source": [
    "fig, ax = plot_histogram(df[\"S1\"][\"Ytr_0\"])\n",
    "add_histogram(ax, df[\"S1\"][\"Ytr_1\"])\n",
    "add_histogram(ax, df[\"S1\"][\"Ytr_2\"])\n",
    "# ax.semilogy()"
   ]
  },
  {
   "cell_type": "code",
   "execution_count": null,
   "id": "fc6fa681",
   "metadata": {},
   "outputs": [],
   "source": [
    "pixel_size = 0.0185 #mm\n",
    "\n",
    "# x and y limits of the plots\n",
    "x_lim = {'left':450, 'right':650}\n",
    "y_lim = {'bottom':200, 'top':500}\n",
    "\n",
    "x_lim_mm = {key: value * pixel_size for key, value in x_lim.items()}\n",
    "y_lim_mm = {key: value * pixel_size for key, value in y_lim.items()}\n",
    "\n",
    "x_lim_small = {'left':525, 'right':650}\n",
    "y_lim_small = {'bottom':200, 'top':325}\n",
    "\n",
    "# I might have to define the bins a bit better because they depend on the limits of the data\n",
    "# bins = (x_lim['right']-x_lim['left'], y_lim['top']-y_lim['bottom'])"
   ]
  },
  {
   "cell_type": "code",
   "execution_count": null,
   "id": "2dae29c9",
   "metadata": {
    "scrolled": false
   },
   "outputs": [],
   "source": [
    "# choose the bins so that they match the MIMOSA pixels (which are just the coordinates)\n",
    "bins = (np.arange(x_lim['left'], x_lim['right'],1),\n",
    "        np.arange(y_lim['bottom'], y_lim['top'],1))\n",
    "\n",
    "# I wanna make this into a function\n",
    "\n",
    "fig, axes = plt.subplots(nrows=2, ncols=4, figsize=(15,10), dpi=300)#, sharex='all', sharey='all')\n",
    "fig.tight_layout(w_pad=6, h_pad=6)\n",
    "\n",
    "for idx, scope in enumerate(['S1','S2']):\n",
    "    for i in (0,1,2,3):\n",
    "        Xtr = df[scope][f\"Xtr_{i}\"]\n",
    "        Ytr = df[scope][f\"Ytr_{i}\"]\n",
    "        hist, _, _, _, = axes[idx,i].hist2d(Xtr, Ytr, bins=bins)\n",
    "        axes[idx,i].set_title(f\"\"\"Tracks on Ch{i+1} ({sensors_list[this_batch][scope]['Ch'+f'{i+1}']}) \\n \n",
    "        batch: {this_batch}\"\"\")\n",
    "        axes[idx,i].set_aspect('equal')\n",
    "        axes[idx,i].set_xlabel('pixels', fontsize=20)\n",
    "        axes[idx,i].set_ylabel('pixels', fontsize=20)\n"
   ]
  },
  {
   "cell_type": "code",
   "execution_count": null,
   "id": "d1e291f6",
   "metadata": {},
   "outputs": [],
   "source": []
  },
  {
   "cell_type": "code",
   "execution_count": null,
   "id": "24f668ae",
   "metadata": {},
   "outputs": [],
   "source": [
    "sensors_list"
   ]
  },
  {
   "cell_type": "code",
   "execution_count": null,
   "id": "8ea9a032",
   "metadata": {},
   "outputs": [],
   "source": [
    "# let's pause this because calculating peaks from histogram is way faster\n",
    "\n",
    "# x_axis = np.linspace(-5,100,500)\n",
    "# pulse_kde = gaussian_kde(dataset=df[\"S1\"][\"pulseHeight_1\"].to_numpy()).evaluate(x_axis)\n",
    "\n",
    "# peaks = find_peaks(pulse_kde)[0]\n",
    "# minimun = find_peaks(-pulse_kde[peaks[0]:peaks[1]])\n",
    "# print(x_axis[minimun[0]+peaks[0]])\n",
    "# # minimum = find_min_kde(df[\"S1\"][\"pulseHeight_1\"], x_axis)\n",
    "# plt.plot(x_axis, pulse_kde)\n",
    "# plt.plot(x_axis[peaks], pulse_kde[peaks], 'x')\n",
    "# plt.plot(x_axis[minimun[0]+peaks[0]], pulse_kde[minimun[0]+peaks[0]], 'x')"
   ]
  },
  {
   "cell_type": "code",
   "execution_count": null,
   "id": "2485b62c",
   "metadata": {},
   "outputs": [],
   "source": [
    "# Get the sensors names\n",
    "this_scope = \"S1\"\n",
    "these_sensors = list(sensors_list[this_batch][this_scope].values())\n",
    "print(these_sensors)\n",
    "\n",
    "# PulseHeight plot\n",
    "fig, ax = plot_histogram(df[this_scope].loc[:,\"pulseHeight_0\":\"pulseHeight_2\"], label=these_sensors, bins=500)\n",
    "ax.set_xlim(-4,100)\n",
    "ax.semilogy()\n",
    "ax.set_xlabel(\"pulseHeight [mV]\", fontsize=20)\n",
    "ax.set_ylabel(\"Events (log)\", fontsize=20)\n",
    "ax.set_title(f\"PulseHeight of all sensors on {this_scope} (no cut)\", fontsize=24, y=1.05)\n",
    "ax.legend(fontsize=20)\n",
    "\n",
    "# fig.savefig(f\"various plots/pulseheight_plot_all_sensors_{this_batch}.jpg\")"
   ]
  },
  {
   "cell_type": "code",
   "execution_count": null,
   "id": "57350bb0",
   "metadata": {},
   "outputs": [],
   "source": [
    "prominence = 500\n",
    "distance = 20\n",
    "bins = 1000\n",
    "this_scope = 'S1'\n",
    "\n",
    "fig, ax = plt.subplots(figsize=(12,8), dpi=300)\n",
    "global_min = find_min_btw_peaks(df[this_scope][\"pulseHeight_1\"], bins, prominence, distance)\n",
    "ax.set_xlim(0,100)\n",
    "ax.set_xlabel(\"PulseHeight [mV]\", fontsize=20)\n",
    "ax.set_ylabel(\"Events (log)\", fontsize=20)\n",
    "ax.grid('--')\n",
    "ax.semilogy()\n",
    "ax.legend(fontsize=20)\n",
    "\n",
    "ax.set_title(f\"pulseHeight min between peaks, Ch2\", fontsize=24, y=1.05)\n",
    "\n",
    "# fig.savefig(f\"various plots/pulseheight_min_between_picks_{this_batch}_{these_sensors[1]}.jpg\")"
   ]
  },
  {
   "cell_type": "code",
   "execution_count": null,
   "id": "920fe449",
   "metadata": {
    "scrolled": false
   },
   "outputs": [],
   "source": [
    "this_scope = 'S1'\n",
    "# initilize all the empty dicts ONLY if they don't already exist (so I can keep previous ones)\n",
    "# might be useless later on\n",
    "try: dict_mins[this_batch][this_scope] = {}\n",
    "except:\n",
    "    try:\n",
    "        dict_mins[this_batch] = {}\n",
    "        dict_mins[this_batch][this_scope] = {}\n",
    "    except:\n",
    "        dict_mins = {}\n",
    "        dict_mins[this_batch] = {}\n",
    "        dict_mins[this_batch][this_scope] = {}\n",
    "\n",
    "prominence = 500\n",
    "distance = 20 \n",
    "\n",
    "# find the mimimum for each pulseHeight\n",
    "for name in ['pulseHeight_1', 'pulseHeight_2']:\n",
    "    print(name)\n",
    "#     bins = 1000\n",
    "    dict_mins[this_batch][this_scope][name] = find_min_btw_peaks(df[this_scope][name], bins, prominence, distance, plot=False)\n",
    "    print(\"min:\", dict_mins[this_batch][this_scope][name])\n",
    "\n",
    "dict_mins"
   ]
  },
  {
   "cell_type": "code",
   "execution_count": null,
   "id": "1c7306d5",
   "metadata": {},
   "outputs": [],
   "source": [
    "transimpedance = 4700\n"
   ]
  },
  {
   "cell_type": "code",
   "execution_count": null,
   "id": "ce192c33",
   "metadata": {},
   "outputs": [],
   "source": [
    "# Filter condi-tions\n",
    "min_1 = dict_mins[this_batch][this_scope][\"pulseHeight_1\"]\n",
    "min_2 = dict_mins[this_batch][this_scope][\"pulseHeight_2\"]\n",
    "filter_1 = (df[this_scope][\"pulseHeight_1\"]>min_1).combine(df[this_scope][\"pulseHeight_1\"]<350, my_and)\n",
    "filter_2 = (df[this_scope][\"pulseHeight_2\"]>min_2).combine(df[this_scope][\"pulseHeight_2\"]<350, my_and)"
   ]
  },
  {
   "cell_type": "code",
   "execution_count": null,
   "id": "3cb0e8b1",
   "metadata": {
    "scrolled": false
   },
   "outputs": [],
   "source": [
    "this_scope = 'S1'\n",
    "bins = (200,200)\n",
    "\n",
    "fig, axes = plt.subplots(nrows=1, ncols=2, figsize=(10,5), dpi=300, sharex='all', sharey='all')\n",
    "fig.tight_layout(w_pad=6)\n",
    "\n",
    "Xtr_0 = df[this_scope][\"Xtr_0\"]#*pixel_size\n",
    "Ytr_0 = df[this_scope][\"Ytr_0\"]#*pixel_size\n",
    "# hist, x_bins, y_bins, _ = ax[0].hist2d(Xtr_0, Ytr_0, bins=bins) # set the same bins for all plots\n",
    "# axes[0].set_title(f\"hits on Ch1 no cut ({sensors_list[this_batch][this_scope]['Ch1']})\")\n",
    "\n",
    "Xtr_1 = df[this_scope][\"Xtr_1\"]#*pixel_size\n",
    "Ytr_1 = df[this_scope][\"Ytr_1\"]#*pixel_size\n",
    "hist, x_bins, y_bins, _ = axes[0].hist2d(Xtr_1, Ytr_1, bins=bins) # set the same bins for all plots\n",
    "axes[0].set_title(f\"Tracks on Ch2 no cut\", fontsize=20)\n",
    "\n",
    "# Xtr_1cut = df[this_scope][\"Xtr_1\"].iloc[np.where(filter_1)]#*pixel_size\n",
    "# Ytr_1cut = df[this_scope][\"Ytr_1\"].iloc[np.where(filter_1)]#*pixel_size\n",
    "# axes[1].hist2d(Xtr_1cut, Ytr_1cut, bins=(x_bins,y_bins))\n",
    "# axes[1].set_title(f\"Tracks on Ch2 pulseheight cut\", fontsize=20)\n",
    "\n",
    "Xtr_2cut = df[this_scope][\"Xtr_2\"].iloc[np.where(filter_2)]#*pixel_size\n",
    "Ytr_2cut = df[this_scope][\"Ytr_2\"].iloc[np.where(filter_2)]#*pixel_size\n",
    "axes[1].hist2d(Xtr_2cut, Ytr_2cut, bins=(x_bins,y_bins))\n",
    "axes[1].set_title(f\"hits on Ch3 pulseheight cut ({sensors_list[this_batch][this_scope]['Ch3']})\")\n",
    "\n",
    "# fig.suptitle(f'Hit positions on batch 301', size=16)\n",
    "\n",
    "for ax in axes:\n",
    "    ax.set_aspect('equal')\n",
    "    ax.set_xlim(**x_lim)\n",
    "    ax.set_ylim(**y_lim)\n",
    "    ax.set_xlabel('pixels', fontsize=20)\n",
    "    ax.set_ylabel('pixels', fontsize=20)\n",
    "    secx = ax.secondary_xaxis('top', functions=(lambda x: x*pixel_size, lambda x: x*pixel_size))\n",
    "    secy = ax.secondary_yaxis('right', functions=(lambda x: x*pixel_size, lambda x: x*pixel_size))\n",
    "    secx.set_xlabel('mm', fontsize=20)\n",
    "    secy.set_ylabel('mm', fontsize=20)\n",
    "\n",
    "# fig.savefig(f\"various plots/hits_on_USTC_{this_batch}_pulseheight_cut.jpg\", bbox_inches=\"tight\")"
   ]
  },
  {
   "cell_type": "code",
   "execution_count": null,
   "id": "a19e32c2",
   "metadata": {},
   "outputs": [],
   "source": [
    "# figure out the geometry cut and put it into a dict\n",
    "edges = {}\n",
    "edges[\"Ch2\"] = {}\n",
    "\n",
    "edges[\"Ch2\"][\"left\"], edges[\"Ch2\"][\"right\"] = find_edges(Xtr_1cut) # previous Xtr cut\n",
    "edges[\"Ch2\"][\"bottom\"], edges[\"Ch2\"][\"top\"] = find_edges(Ytr_1cut)\n",
    "xgeometry_1 = (df[this_scope][\"Xtr_1\"]>edges[\"Ch2\"][\"left\"]).combine((\n",
    "                df[this_scope][\"Xtr_1\"]<edges[\"Ch2\"][\"right\"]), my_and)\n",
    "ygeometry_1 = (df[this_scope][\"Ytr_1\"]>edges[\"Ch2\"][\"bottom\"]).combine((\n",
    "                df[this_scope][\"Ytr_1\"]<edges[\"Ch2\"][\"top\"]), my_and) \n",
    "geometry_1 = xgeometry_1.combine(ygeometry_1, my_and)\n",
    "\n",
    "edges[\"Ch3\"] = {}\n",
    "edges[\"Ch3\"][\"left\"], edges[\"Ch3\"][\"right\"] = find_edges(Xtr_2cut) \n",
    "edges[\"Ch3\"][\"bottom\"], edges[\"Ch3\"][\"top\"] = find_edges(Ytr_2cut)\n",
    "xgeometry_2 = (df[this_scope][\"Xtr_2\"]>edges[\"Ch3\"][\"left\"]).combine((\n",
    "                df[this_scope][\"Xtr_2\"]<edges[\"Ch3\"][\"right\"]), my_and)\n",
    "ygeometry_2 = (df[this_scope][\"Ytr_2\"]>edges[\"Ch3\"][\"bottom\"]).combine((\n",
    "                df[this_scope][\"Ytr_2\"]<edges[\"Ch3\"][\"top\"]), my_and) \n",
    "geometry_2 = xgeometry_2.combine(ygeometry_2, my_and)"
   ]
  },
  {
   "cell_type": "code",
   "execution_count": null,
   "id": "4734af05",
   "metadata": {},
   "outputs": [],
   "source": [
    "left_edge, right_edge = find_edges(Xtr_1cut)\n",
    "\n",
    "fig, ax = plt.subplots(figsize=(15,8))\n",
    "hist, bins, _ = plt.hist(Xtr_1cut, bins='auto', histtype='step', label=f'Xtr sensor: {these_sensors[1]}')\n",
    "ax.plot((bins[:-1]+bins[1:])/2, np.gradient(hist), label='gradient of Xtr')\n",
    "ax.axvline(left_edge, color='g', linestyle='--', label='left edge')\n",
    "ax.axvline(right_edge, color='r', linestyle='--', label='right edge')\n",
    "ax.set_title(f\"Xtr_1 distribution of {these_sensors[1]} (with pulseheight cut)\", fontsize=24, y=1.05)\n",
    "ax.set_xlim(400,700)\n",
    "ax.set_xlabel(\"Position (pixels)\", fontsize=20)\n",
    "ax.set_ylabel(\"Events\", fontsize=20)\n",
    "ax.grid('--')\n",
    "ax.legend(fontsize=20, loc='upper left')\n",
    "\n",
    "fig.savefig(f\"various plots/locating_edges_Xtr_of_{these_sensors[1]}.jpg\")"
   ]
  },
  {
   "cell_type": "code",
   "execution_count": null,
   "id": "ab296469",
   "metadata": {},
   "outputs": [],
   "source": [
    "data_pulse_filter = df[\"S1\"][\"charge_2\"].iloc[np.where(filter_2)]/transimpedance\n",
    "data_pulse_geo_filter = df[\"S1\"][\"charge_2\"].iloc[np.where(filter_2 & geometry_2)]/transimpedance\n",
    "data_geo_filter = df[\"S1\"][\"charge_2\"].iloc[np.where(geometry_2)]/transimpedance\n",
    "\n",
    "# I need to figure out how to combine colors into nice thing\n",
    "fig, ax = plt.subplots(figsize=(10,6), dpi=300)\n",
    "hist, bins_for_all, _ = ax.hist(df[\"S1\"][\"charge_2\"]/transimpedance, bins='auto', label=\"no cut\", histtype='step', alpha=.5, color='#0000ff')\n",
    "add_histogram(ax, data_pulse_filter, bins=bins_for_all, label=\"pulseheight cut\", alpha=.5, color='#00ff00')\n",
    "add_histogram(ax, data_pulse_geo_filter, bins=bins_for_all, label=\"pulseheight & geom. cut\", alpha=.5, color='#ff0000')\n",
    "add_histogram(ax, data_geo_filter, bins=bins_for_all, label=\"geometry cut\", alpha=.5, color='#505050') # #ffff00\n",
    "ax.set_xlabel(\"Charge [fC]\", fontsize=20)\n",
    "ax.set_ylabel(\"Events (log)\", fontsize=20)\n",
    "ax.set_title(f\"Charge plot with various cuts\", fontsize=24,y=1.05)\n",
    "ax.grid('--')\n",
    "ax.set_xlim(-5,50)\n",
    "ax.semilogy()\n",
    "ax.legend(fontsize=20)\n",
    "\n",
    "fig.savefig(f\"various plots/charge_plot_various_cuts_{this_batch}.jpg\")"
   ]
  },
  {
   "cell_type": "code",
   "execution_count": null,
   "id": "f94eee7b",
   "metadata": {},
   "outputs": [],
   "source": [
    "print(find_edges(Xtr_1cut), find_edges(Ytr_1cut))\n",
    "# (right_edge-left_edge)*pixel_size\n",
    "# (top_edge-bottom_edge)*pixel_size"
   ]
  },
  {
   "cell_type": "code",
   "execution_count": null,
   "id": "3eff7cb1",
   "metadata": {},
   "outputs": [],
   "source": [
    "fig, ax = plt.subplots(nrows=1, ncols=3, figsize=(15,5), dpi=300, sharex='all', sharey='all')\n",
    "fig.tight_layout(w_pad=4)\n",
    "\n",
    "Xtr_0 = df[this_scope][\"Xtr_1\"]#*pixel_size\n",
    "Ytr_0 = df[this_scope][\"Ytr_1\"]#*pixel_size\n",
    "ax[0].hist2d(Xtr_0, Ytr_0, bins=(x_bins, y_bins))\n",
    "ax[0].set_title(f\"hits on {sensors_list[this_batch][this_scope]['Ch1']} (Ch1)\")\n",
    "\n",
    "Xtr_1geo = df[this_scope][\"Xtr_1\"].iloc[np.where(filter_1 & geometry_1)]#*pixel_size\n",
    "Ytr_1geo = df[this_scope][\"Ytr_1\"].iloc[np.where(filter_1 & geometry_1)]#*pixel_size\n",
    "ax[1].hist2d(Xtr_1geo, Ytr_1geo, bins=(x_bins, y_bins))\n",
    "ax[1].set_title(f\"hits on {sensors_list[this_batch][this_scope]['Ch2']} (Ch2)\")\n",
    "\n",
    "Xtr_2cut = df[this_scope][\"Xtr_2\"].iloc[np.where(filter_2 & geometry_2)]#*pixel_size\n",
    "Ytr_2cut = df[this_scope][\"Ytr_2\"].iloc[np.where(filter_2 & geometry_2)]#*pixel_size\n",
    "ax[2].hist2d(Xtr_2cut, Ytr_2cut, bins=(x_bins, y_bins))\n",
    "ax[2].set_title(f\"hits on {sensors_list[this_batch][this_scope]['Ch3']} (Ch3)\")\n",
    "\n",
    "# fig.suptitle(f'Hit positions on batch 301', size=16)\n",
    "\n",
    "for ax_single in ax:\n",
    "#     ax_single.axis('equal')\n",
    "    ax_single.set_xlim(**x_lim)\n",
    "    ax_single.set_ylim(**y_lim)\n",
    "    ax_single.set_xlabel('pixels')\n",
    "    ax_single.set_ylabel('pixels')\n",
    "    secx = ax_single.secondary_xaxis('top', functions=(lambda x: x*pixel_size, lambda x: x*pixel_size))\n",
    "    secy = ax_single.secondary_yaxis('right', functions=(lambda x: x*pixel_size, lambda x: x*pixel_size))\n",
    "    secx.set_xlabel('mm')\n",
    "    secy.set_ylabel('mm')\n",
    "\n",
    "fig.savefig(f\"various plots/hits_on_USTC_{this_batch}_geometry_cut.jpg\", bbox_inches=\"tight\")"
   ]
  },
  {
   "cell_type": "code",
   "execution_count": null,
   "id": "3bfdf9fe",
   "metadata": {},
   "outputs": [],
   "source": [
    "fig, ax = plt.subplots(nrows=1, ncols=2, figsize=(10,5))\n",
    "fig.tight_layout(w_pad=5)\n",
    "\n",
    "Xtr_1cut = df[this_scope][\"Xtr_1\"].iloc[np.where(filter_1)]#*pixel_size\n",
    "Ytr_1cut = df[this_scope][\"Ytr_1\"].iloc[np.where(filter_1)]#*pixel_size\n",
    "\n",
    "ax[0].hist2d(Xtr_1cut, Ytr_1cut, bins=(x_bins,y_bins))\n",
    "# ax[0].set_title(f\"hits on {sensors_list[this_batch][this_scope]['Ch2']} (Ch2) \\n pulseheight cut\")\n",
    "ax[0].set_title(f\"2D hits on  (Ch2) \\n pulseheight cut\")\n",
    "\n",
    "# Define bin edges with a bin width of 1\n",
    "x_bins_pixels = np.arange(np.round(edges[\"Ch2\"][\"left\"]), np.round(edges[\"Ch2\"][\"right\"])+1, 1)\n",
    "y_bins_pixels = np.arange(np.round(edges[\"Ch2\"][\"bottom\"]), np.round(edges[\"Ch2\"][\"top\"])+1, 1)\n",
    "print(f\"pixel bins intervals: X=[{min(x_bins_pixels)}, {max(x_bins_pixels)}], \\\n",
    "Y=[{min(y_bins_pixels)}, {max(y_bins_pixels)}]\")\n",
    "\n",
    "Xtr_1geo = df[this_scope][\"Xtr_1\"].iloc[np.where(geometry_1 & filter_1)]#*pixel_size\n",
    "Ytr_1geo = df[this_scope][\"Ytr_1\"].iloc[np.where(geometry_1 & filter_1)]#*pixel_size\n",
    "ax[1].hist2d(Xtr_1geo, Ytr_1geo, bins=(x_bins, y_bins))\n",
    "ax[1].set_title(f\"hits on {sensors_list[this_batch][this_scope]['Ch2']} (Ch2) \\n pulseheight cut and geometry cut\")\n",
    "\n",
    "for ax_single in ax:\n",
    "    ax_single.set_aspect('equal')\n",
    "    ax_single.set_xlim(**x_lim)\n",
    "    ax_single.set_ylim(**y_lim)\n",
    "    ax_single.set_xlabel('pixels')\n",
    "    ax_single.set_ylabel('pixels')\n",
    "    secx = ax_single.secondary_xaxis('top', functions=(lambda x: x*pixel_size, lambda x: x*pixel_size))\n",
    "    secy = ax_single.secondary_yaxis('right', functions=(lambda x: x*pixel_size, lambda x: x*pixel_size))\n",
    "    secx.set_xlabel('mm')\n",
    "    secy.set_ylabel('mm')\n",
    "    \n",
    "# fig.savefig(f\"various plots/hits_on_USTC_{this_batch}_geometry_cut_sidebyside.jpg\", bbox_inches=\"tight\")"
   ]
  },
  {
   "cell_type": "code",
   "execution_count": null,
   "id": "75da3eb1",
   "metadata": {},
   "outputs": [],
   "source": [
    "# I would like a bin definition that fits with the pixels\n",
    "sensors_list[this_batch][this_scope]['Ch2']"
   ]
  },
  {
   "cell_type": "code",
   "execution_count": null,
   "id": "66cfe09d",
   "metadata": {},
   "outputs": [],
   "source": [
    "fig, ax = plt.subplots(nrows=1, ncols=2 ,figsize=(14,6), dpi=300, sharex='all')\n",
    "fig.tight_layout(w_pad=4)\n",
    "\n",
    "Xtr_1 = df[this_scope][\"Xtr_1\"]#*pixel_size\n",
    "Ytr_1 = df[this_scope][\"Ytr_1\"]#*pixel_size\n",
    "ax[0].hist2d(Xtr_1, Ytr_1, bins=(x_bins, y_bins))\n",
    "ax[0].set_title(f\"hits on {sensors_list[this_batch][this_scope]['Ch2']} (Ch2)\")\n",
    "ax[0].set_aspect('equal')\n",
    "\n",
    "Xtr_2 = df[this_scope][\"Xtr_2\"]#*pixel_size\n",
    "Ytr_2 = df[this_scope][\"Ytr_2\"]#*pixel_size\n",
    "ax[1].hist2d(Xtr_2, Ytr_2, bins=(x_bins, y_bins))\n",
    "ax[1].set_title(f\"hits on {sensors_list[this_batch][this_scope]['Ch3']} (Ch3)\")\n",
    "ax[1].set_aspect('equal')\n"
   ]
  },
  {
   "cell_type": "markdown",
   "id": "d3213e73",
   "metadata": {},
   "source": [
    "## Efficiency Study"
   ]
  },
  {
   "cell_type": "code",
   "execution_count": null,
   "id": "868d48a5",
   "metadata": {
    "scrolled": true
   },
   "outputs": [],
   "source": [
    "# efficiency study\n",
    "charge_threshold = 2 #fC\n",
    "transimpedance = 4700 \n",
    "bins = (x_bins_pixels, y_bins_pixels)\n",
    "\n",
    "total_events_in_bin, x_edges, y_edges,_ = plt.hist2d(df[this_scope][\"Xtr_1\"].iloc[np.where(geometry_1)],\n",
    "                                                    df[this_scope][\"Ytr_1\"].iloc[np.where(geometry_1)],\n",
    "                                                     bins=bins)#, range=(x_lim.values(), y_lim.values()))\n",
    "\n",
    "# Create a boolean mask for events above the threshold\n",
    "events_above_threshold = df[this_scope][\"charge_1\"].iloc[np.where(geometry_1)]/transimpedance > charge_threshold\n",
    "\n",
    " # Calculate the number of events above threshold in each bin\n",
    "events_above_threshold_in_bin, _, _, _ = plt.hist2d(df[this_scope][\"Xtr_1\"].iloc[np.where(geometry_1.combine(events_above_threshold, my_and))],\n",
    "                                                    df[this_scope][\"Ytr_1\"].iloc[np.where(geometry_1.combine(events_above_threshold, my_and))],\n",
    "                                                    bins=(x_edges, y_edges))\n",
    "# plt.axis('equal')\n",
    "plt.close()\n",
    "\n",
    "# Calculate the efficiency for each bin\n",
    "efficiency_map = np.divide(events_above_threshold_in_bin, total_events_in_bin,\n",
    "                           where=total_events_in_bin!=0,\n",
    "                           out=np.zeros_like(events_above_threshold_in_bin))*100 # in percentage"
   ]
  },
  {
   "cell_type": "code",
   "execution_count": null,
   "id": "e585dd8e",
   "metadata": {},
   "outputs": [],
   "source": [
    "fig = plt.figure(figsize=(7.28, 6), dpi=200)\n",
    "plt.imshow(efficiency_map.T, origin='lower', extent=[x_edges[0], x_edges[-1], y_edges[0], y_edges[-1]],\n",
    "           aspect='equal', vmin=0, vmax=100)\n",
    "# fig.tight_layout(pad=7)\n",
    "plt.colorbar(label='Efficiency')\n",
    "plt.xlabel('X Position', fontsize=20)\n",
    "plt.ylabel('Y Position', fontsize=20)\n",
    "plt.title(f'2D Efficiency restricted to ~1.3x1.3mm² \\n (Charge > {charge_threshold} fC) Ch2',\n",
    "         fontsize=24, y=1.05)\n",
    "plt.axis('equal')\n",
    "# plt.xlim(**x_lim)\n",
    "# plt.ylim(**y_lim)\n",
    "plt.show()\n",
    "fig.savefig(f\"various plots/Efficiency_heatmap_full_surface_charge_{charge_threshold}fC_{this_batch}.jpg\", bbox_inches='tight')"
   ]
  },
  {
   "cell_type": "code",
   "execution_count": null,
   "id": "17907cfa",
   "metadata": {
    "scrolled": false
   },
   "outputs": [],
   "source": [
    "# make a 1d plot (histogram) of the efficiency\n",
    "# bins = 40\n",
    "total_events_in_bin1D, bins_edges, _ = plt.hist(df[this_scope][\"Xtr_1\"].iloc[np.where(geometry_1)],\n",
    "                                                     bins=x_bins_pixels, histtype='step')\n",
    "\n",
    "# Create a boolean mask for events above the threshold\n",
    "events_above_threshold1D = df[this_scope][\"charge_1\"].iloc[np.where(geometry_1)]/transimpedance > charge_threshold\n",
    "\n",
    "# Calculate the number of events above threshold in each bin\n",
    "events_above_threshold_in_bin1D, _, _ = plt.hist(df[\"S1\"][\"Xtr_1\"].iloc[np.where(\n",
    "                                            geometry_1.combine(events_above_threshold1D, my_and))],\n",
    "                                            bins=x_bins_pixels, histtype='step')\n",
    "plt.close()\n",
    "\n",
    "fig, ax = plt.subplots(figsize=(8,6), dpi=150)\n",
    "bins_centers = (bins_edges[:-1]+bins_edges[1:])/2\n",
    "\n",
    "eff, err = efficiency_k_n(events_above_threshold_in_bin1D, total_events_in_bin1D)\n",
    "ax.step(bins_centers, eff, where='mid')\n",
    "sigma_coeff = 1\n",
    "ax.errorbar(bins_centers, eff, yerr=sigma_coeff*err, elinewidth=1.5, markersize=0, linewidth=0,\n",
    "            label=f\"error: {sigma_coeff}$\\sigma$\")\n",
    "\n",
    "ax.set_title(f\"X axis projection of efficiency, Ch2\", fontsize=24, y=1.05)\n",
    "ax.set_xlabel(\"X position (pixels)\", fontsize=20)\n",
    "ax.set_ylabel(\"Efficiency\", fontsize=20)\n",
    "ax.grid('--')\n",
    "ax.legend()\n",
    "# fig.savefig(f\"various plots/X_axis_projection_efficiency_USTC_{this_batch}.jpg\")"
   ]
  },
  {
   "cell_type": "code",
   "execution_count": null,
   "id": "96554849",
   "metadata": {
    "scrolled": true
   },
   "outputs": [],
   "source": []
  },
  {
   "cell_type": "code",
   "execution_count": null,
   "id": "3851c97d",
   "metadata": {
    "scrolled": false
   },
   "outputs": [],
   "source": [
    "# make a 1d plot (histogram) of the efficiency\n",
    "# bins = 40\n",
    "total_events_in_bin1D, bins_edges, _ = plt.hist(df[this_scope][\"Ytr_1\"].iloc[np.where(geometry_1)],\n",
    "                                                     bins=y_bins_pixels, histtype='step')\n",
    "\n",
    "# Create a boolean mask for events above the threshold\n",
    "events_above_threshold1D = df[this_scope][\"charge_1\"].iloc[np.where(geometry_1)]/transimpedance > charge_threshold\n",
    "\n",
    "# Calculate the number of events above threshold in each bin\n",
    "events_above_threshold_in_bin1D, _, _ = plt.hist(df[\"S1\"][\"Ytr_1\"].iloc[np.where(\n",
    "                                            geometry_1.combine(events_above_threshold1D, my_and))],\n",
    "                                            bins=y_bins_pixels, histtype='step')\n",
    "plt.close()\n",
    "\n",
    "fig, ax = plt.subplots(figsize=(8,6), dpi=150)\n",
    "bins_centers = (bins_edges[:-1]+bins_edges[1:])/2\n",
    "\n",
    "eff, err = efficiency_k_n(events_above_threshold_in_bin1D, total_events_in_bin1D)\n",
    "ax.step(bins_centers, eff, where='mid')\n",
    "sigma_coeff = 1\n",
    "ax.errorbar(bins_centers, eff, yerr=sigma_coeff*err, elinewidth=1.5, markersize=0, linewidth=0,\n",
    "            label=f\"error: {sigma_coeff}$\\sigma$\")\n",
    "\n",
    "ax.set_title(f\"Y axis projection of efficiency, Ch2\", fontsize=24, y=1.05)\n",
    "ax.set_xlabel(\"Y position (pixels)\", fontsize=20)\n",
    "ax.set_ylabel(\"Efficiency (%)\", fontsize=20)\n",
    "ax.grid('--')\n",
    "ax.legend() \n",
    "# fig.savefig(f\"various plots/Y_axis_projection_efficiency_USTC_{this_batch}.jpg\")"
   ]
  },
  {
   "cell_type": "code",
   "execution_count": null,
   "id": "583822bb",
   "metadata": {},
   "outputs": [],
   "source": []
  },
  {
   "cell_type": "code",
   "execution_count": null,
   "id": "a4244031",
   "metadata": {},
   "outputs": [],
   "source": [
    "# total efficiency\n",
    "transimpedance = 4700 # 10700\n",
    "efficiency_range = []\n",
    "threshold_range = np.arange(0.5, 20, 0.5)\n",
    "\n",
    "for charge in threshold_range:\n",
    "    efficiency_range.append(efficiency(\n",
    "        df[this_scope][\"charge_1\"].iloc[np.where(geometry_1)]/transimpedance, charge, percentage=False))\n",
    "\n",
    "fig, ax = plt.subplots(figsize=(10,6), dpi=150)\n",
    "ax.plot(threshold_range, efficiency_range,'o', \n",
    "        label=f\"Total tracks: {df[this_scope]['charge_1'].iloc[np.where(geometry_1)].size}\")\n",
    "ax.set_title(f\"Total efficiency depending on threshold charge \\n \\\n",
    "on full surface of {these_sensors[1]}, batch {this_batch}\")\n",
    "ax.set_xlabel(\"Threshold charge (fC)\")\n",
    "ax.set_ylabel(\"Total efficiency (%)\")\n",
    "ax.grid('--')\n",
    "ax.legend()\n",
    "# fig.savefig(f\"various plots/Total_efficiency_change_USTC_{this_batch}.jpg\")"
   ]
  },
  {
   "cell_type": "markdown",
   "id": "856ba835",
   "metadata": {},
   "source": [
    "## Efficiency in the central part \n",
    "Calculate the efficiency in the central $0.5x0.5$ $mm^2$"
   ]
  },
  {
   "cell_type": "code",
   "execution_count": null,
   "id": "dc10a851",
   "metadata": {},
   "outputs": [],
   "source": [
    "edges_central = copy.deepcopy(edges) # make a copy of edges{}\n",
    "new_width = 0.5 # mm\n",
    "new_width_pixel = np.ceil(new_width/pixel_size) # 500um = 0.5mm\n",
    "\n",
    "for ch, values in edges.items():\n",
    "    # define the new edges as 1/2 the new edge size to the left and right (bottom and top) from the center\n",
    "    central_pos = (edges[ch][\"left\"] + edges[ch][\"right\"])/2  # center\n",
    "    edges_central[ch][\"left\"] = central_pos - new_width_pixel/2    # center - width/2\n",
    "    edges_central[ch][\"right\"] = central_pos + new_width_pixel/2   # center + width/2\n",
    "    \n",
    "    central_pos = (edges[ch][\"bottom\"]+edges[ch][\"top\"])/2\n",
    "    edges_central[ch][\"bottom\"] = central_pos - new_width_pixel/2\n",
    "    edges_central[ch][\"top\"] = central_pos + new_width_pixel/2\n",
    "\n",
    "xgeometry_1 = (df[this_scope][\"Xtr_1\"]>edges_central[\"Ch2\"][\"left\"]).combine((\n",
    "                df[this_scope][\"Xtr_1\"]<edges_central[\"Ch2\"][\"right\"]), my_and)\n",
    "ygeometry_1 = (df[this_scope][\"Ytr_1\"]>edges_central[\"Ch2\"][\"bottom\"]).combine((\n",
    "                df[this_scope][\"Ytr_1\"]<edges_central[\"Ch2\"][\"top\"]), my_and) \n",
    "geometry_small_1 = xgeometry_1.combine(ygeometry_1, my_and)\n",
    "\n",
    "xgeometry_2 = (df[this_scope][\"Xtr_2\"]>edges_central[\"Ch3\"][\"left\"]).combine((\n",
    "                df[this_scope][\"Xtr_2\"]<edges_central[\"Ch3\"][\"right\"]), my_and)\n",
    "ygeometry_2 = (df[this_scope][\"Ytr_2\"]>edges_central[\"Ch3\"][\"bottom\"]).combine((\n",
    "                df[this_scope][\"Ytr_2\"]<edges_central[\"Ch3\"][\"top\"]), my_and) \n",
    "geometry_small_2 = xgeometry_2.combine(ygeometry_2, my_and)"
   ]
  },
  {
   "cell_type": "code",
   "execution_count": null,
   "id": "cfe66c1d",
   "metadata": {},
   "outputs": [],
   "source": [
    "print(edges[\"Ch2\"])\n",
    "print(edges_central[\"Ch2\"])"
   ]
  },
  {
   "cell_type": "code",
   "execution_count": null,
   "id": "c2c42159",
   "metadata": {},
   "outputs": [],
   "source": [
    "# efficiency study\n",
    "charge_threshold = 2 #fC\n",
    "transimpedance = 4700 \n",
    "bins = (int(new_width_pixel), int(new_width_pixel))\n",
    "\n",
    "total_events_in_bin, x_edges_small, y_edges_small,_ = plt.hist2d(df[this_scope][\"Xtr_1\"].iloc[np.where(geometry_small_1)],\n",
    "                                                    df[this_scope][\"Ytr_1\"].iloc[np.where(geometry_small_1)],\n",
    "                                                     bins=bins)#, range=(x_lim.values(), y_lim.values()))\n",
    "\n",
    "# Create a boolean mask for events above the threshold\n",
    "events_above_threshold = df[this_scope][\"charge_1\"].iloc[np.where(geometry_small_1)]/transimpedance > charge_threshold\n",
    "\n",
    " # Calculate the number of events above threshold in each bin\n",
    "events_above_threshold_in_bin, _, _, _ = plt.hist2d(df[this_scope][\"Xtr_1\"].iloc[np.where(geometry_small_1.combine(events_above_threshold, my_and))],\n",
    "                                                    df[this_scope][\"Ytr_1\"].iloc[np.where(geometry_small_1.combine(events_above_threshold, my_and))],\n",
    "                                                    bins=(x_edges_small, y_edges_small))\n",
    "# plt.set_aspect('equal')\n",
    "plt.close()\n",
    "\n",
    "# Calculate the efficiency for each bin\n",
    "efficiency_map_small = np.divide(events_above_threshold_in_bin, total_events_in_bin,\n",
    "                           where=total_events_in_bin!=0,\n",
    "                           out=np.zeros_like(events_above_threshold_in_bin))*100 # in percentage"
   ]
  },
  {
   "cell_type": "code",
   "execution_count": null,
   "id": "2403ff3e",
   "metadata": {},
   "outputs": [],
   "source": [
    "# edges_central[\"Ch2\"][\"left\"]"
   ]
  },
  {
   "cell_type": "code",
   "execution_count": null,
   "id": "43d33ba0",
   "metadata": {},
   "outputs": [],
   "source": [
    "fig, axes = plt.subplots(nrows=1, ncols=2 ,figsize=(14,6), dpi=300)#, gridspec_kw={'width_ratios':[5,5,1]})\n",
    "\n",
    "im = axes[0].imshow(efficiency_map.T, origin='lower', extent=[x_edges[0], x_edges[-1], y_edges[0], y_edges[-1]],\n",
    "           aspect='equal', vmin=0, vmax=100)\n",
    "\n",
    "rect = mpatches.Rectangle((edges_central[\"Ch2\"][\"left\"], edges_central[\"Ch2\"][\"bottom\"]), new_width_pixel, new_width_pixel,\n",
    "                          linewidth=1, edgecolor='r', facecolor='none') # small \n",
    "axes[0].add_patch(rect)\n",
    "# ax[0].colorbar(label='Efficiency')\n",
    "axes[0].set_xlabel('X Position (pixel)', fontsize=20)\n",
    "axes[0].set_ylabel('Y Position (pixel)', fontsize=20)\n",
    "secx = axes[0].secondary_xaxis('top', functions=(lambda x: x*pixel_size, lambda x: x*pixel_size))\n",
    "secy = axes[0].secondary_yaxis('right', functions=(lambda x: x*pixel_size, lambda x: x*pixel_size))\n",
    "secx.set_xlabel('mm', fontsize=20)\n",
    "secy.set_ylabel('mm', fontsize=20)\n",
    "\n",
    "axes[1].imshow(efficiency_map_small.T, origin='lower', extent=[x_edges_small[0], x_edges_small[-1], y_edges_small[0], y_edges_small[-1]],\n",
    "           aspect='equal', vmin=0, vmax=100)\n",
    "axes[1].set_xlabel('X Position (pixel)', fontsize=20)\n",
    "axes[1].set_ylabel('Y Position (pixel)', fontsize=20)\n",
    "secx = axes[1].secondary_xaxis('top', functions=(lambda x: x*pixel_size, lambda x: x*pixel_size))\n",
    "secy = axes[1].secondary_yaxis('right', functions=(lambda x: x*pixel_size, lambda x: x*pixel_size))\n",
    "secx.set_xlabel('mm', fontsize=20)\n",
    "secy.set_ylabel('mm', fontsize=20)\n",
    "\n",
    "axes[0].set_aspect('equal')\n",
    "axes[1].set_aspect('equal')\n",
    "\n",
    "# plt.colorbar(im, cax=axes[2], fraction=1)\n",
    "fig.subplots_adjust(right=1)\n",
    "# plt.colorbar(im, label=\"Efficiency\")\n",
    "\n",
    "cbar_ax = fig.add_axes([1.03, 0.1, 0.03, 0.85])\n",
    "fig.colorbar(im, cax=cbar_ax, aspect=2)\n",
    "\n",
    "fig.suptitle(f'2D Efficiency mapped on central 0.5x0.5mm² (Charge > {charge_threshold} fC)', fontsize=24, y=1.05)\n",
    "# plt.xlim(**x_lim)\n",
    "# plt.ylim(**y_lim)\n",
    "# plt.show()\n",
    "fig.savefig(f\"various plots/Efficiency_central_area_zoomed_heatmap_charge_{charge_threshold}fC_{this_batch}.jpg\", bbox_inches='tight')"
   ]
  },
  {
   "cell_type": "code",
   "execution_count": null,
   "id": "75f7b2bf",
   "metadata": {},
   "outputs": [],
   "source": [
    "# total efficiency\n",
    "transimpedance = 4700 # 10700\n",
    "efficiency_range_small = []\n",
    "error_range_small = []\n",
    "threshold_range = np.arange(0.5, 20, 0.5)\n",
    "\n",
    "for charge in threshold_range:\n",
    "    eff, err = efficiency_error(df[this_scope][\"charge_1\"].iloc[np.where(geometry_small_1)]/transimpedance, charge)\n",
    "    efficiency_range_small.append(eff)\n",
    "    error_range_small.append(err)\n",
    "\n",
    "fig, ax = plt.subplots(figsize=(10,6), dpi=150)\n",
    "ax.plot(threshold_range, efficiency_range, label=f\"Efficiency full surface (Ntracks: {df[this_scope]['charge_1'].iloc[np.where(geometry_1)].size})\",\n",
    "        linewidth=3, marker='o')\n",
    "ax.plot(threshold_range, efficiency_range_small, label=f\"Efficiency central surface (Ntracks: {df[this_scope]['charge_1'].iloc[np.where(geometry_small_1)].size})\",\n",
    "        linewidth=3, marker='o')\n",
    "# ax.errorbar(threshold_range, efficiency_range_small, label=\"Efficiency central surface + Poissonian err ($3\\sigma$)\",\n",
    "#             yerr=3*err, linewidth=1, elinewidth=2, ecolor='k')\n",
    "ax.set_title(f\"Total efficiency depending on threshold charge \\n {these_sensors[1]}, batch {this_batch}\", fontsize=24)\n",
    "ax.set_xlabel(\"Threshold charge (fC)\", fontsize=20)\n",
    "ax.set_ylabel(\"Total efficiency (%)\", fontsize=20)\n",
    "# ax.set_ylim(90,100)\n",
    "ax.grid('--')\n",
    "ax.legend(fontsize=20, loc='lower left')\n",
    "fig.savefig(f\"various plots/Total_efficiency_smallarea_change_USTC_{this_batch}.jpg\")"
   ]
  },
  {
   "cell_type": "code",
   "execution_count": null,
   "id": "5e18d246",
   "metadata": {},
   "outputs": [],
   "source": [
    "efficiency_error(df[this_scope][\"charge_1\"].iloc[np.where(geometry_small_1)]/transimpedance, 2)\n",
    "print(sum(df[this_scope][\"charge_1\"].iloc[np.where(geometry_small_1)]/transimpedance>2))\n",
    "# print((df[this_scope][\"charge_1\"].iloc[np.where(geometry_small_1)]).size)"
   ]
  },
  {
   "cell_type": "code",
   "execution_count": null,
   "id": "b3905c94",
   "metadata": {},
   "outputs": [],
   "source": []
  },
  {
   "cell_type": "code",
   "execution_count": null,
   "id": "d58f5b10",
   "metadata": {},
   "outputs": [],
   "source": []
  },
  {
   "cell_type": "markdown",
   "id": "59f6bfa6",
   "metadata": {},
   "source": [
    "## Now I really should look at how to match with the time\n",
    "(in the other file?)"
   ]
  },
  {
   "cell_type": "code",
   "execution_count": null,
   "id": "a910f6c3",
   "metadata": {
    "scrolled": false
   },
   "outputs": [],
   "source": [
    "fig, ax = plot_histogram(df[this_scope][\"timeCFD20_0\"]-df[this_scope][\"timeCFD50_1\"])#-df[this_scope][\"timeCFD50_1\"])\n",
    "# add_histogram(ax,df[this_scope][\"timeCFD50_1\"])\n",
    "# plt.axvline(5500)"
   ]
  },
  {
   "cell_type": "code",
   "execution_count": null,
   "id": "bd00328a",
   "metadata": {},
   "outputs": [],
   "source": []
  },
  {
   "cell_type": "code",
   "execution_count": null,
   "id": "9a91ada2",
   "metadata": {},
   "outputs": [],
   "source": []
  },
  {
   "cell_type": "code",
   "execution_count": null,
   "id": "21ea6e76",
   "metadata": {},
   "outputs": [],
   "source": []
  },
  {
   "cell_type": "code",
   "execution_count": null,
   "id": "6bdcf07a",
   "metadata": {},
   "outputs": [],
   "source": []
  },
  {
   "cell_type": "code",
   "execution_count": null,
   "id": "3cc67054",
   "metadata": {},
   "outputs": [],
   "source": [
    "dict_mins"
   ]
  },
  {
   "cell_type": "code",
   "execution_count": null,
   "id": "b6c90bc7",
   "metadata": {},
   "outputs": [],
   "source": [
    "fig, ax = plt.subplots(figsize=(14,8))\n",
    "# ax.axvline(x=charge_threshold, color='r', label=f'threshold charge: {charge_threshold}fC')\n",
    "charge_hist, bins_hist, _ = ax.hist(df[this_scope][\"charge_1\"].iloc[np.where(\n",
    "    geometry_1.combine(filter_1, my_and))]/transimpedance,\n",
    "                                    bins='auto', histtype='step', label='Charge Histogram')\n",
    "bins_centers = (bins_hist[1:]+bins_hist[:-1])/2\n",
    "bins_centers = bins_centers.astype(np.float64)\n",
    "\n",
    "param, covariance = curve_fit(pylandau.langau, bins_centers, charge_hist, p0=(10,1,1,4000))\n",
    "# print(param)\n",
    "ax.plot(bins_centers, pylandau.langau(bins_centers, *param), label=\"Landau*Gaussian fit\")\n",
    "ax.semilogy()\n",
    "ax.set_xlim(-10, 50)\n",
    "ax.set_ylim(0.1,1e6)\n",
    "ax.set_xlabel(\"Charge [fC]\", fontsize=20)\n",
    "ax.set_ylabel(\"Events\", fontsize=20)\n",
    "ax.set_title(f\"Charge distribution and Landau*Gaussian fit, Ch2\", fontsize=24, y=1.05)\n",
    "ax.grid('--')\n",
    "legend_text = \"MPV: %.2f, $\\eta$: %.2f, $\\sigma$: %.2f\" %(param[0],param[1], param[2]) # only two decimals\n",
    "handles, labels = ax.get_legend_handles_labels()\n",
    "handles.append(mpatches.Patch(color='none', label=legend_text))\n",
    "ax.legend(handles=handles, fontsize=20);\n",
    "fig.savefig(f\"various plots/Charge_distribution_fit_Ch2_{this_batch}.jpg\")"
   ]
  },
  {
   "cell_type": "code",
   "execution_count": null,
   "id": "cba75943",
   "metadata": {},
   "outputs": [],
   "source": [
    "covariance[0,0]**(1/2)"
   ]
  },
  {
   "cell_type": "code",
   "execution_count": null,
   "id": "522cc9bc",
   "metadata": {
    "scrolled": false
   },
   "outputs": [],
   "source": [
    "# fig, ax = plot_histogram(df[this_scope][\"charge_1\"].iloc[np.where(df[this_scope][\"pulseHeight_1\"]>21.3)]/transimpedance)\n",
    "# ax.plot(bins_centers, pylandau.langau(bins_centers, *param))\n",
    "# ax.set_xlim(-10, 100)\n",
    "# legend_text = \"MPV: %.2f, $\\eta$: %.2f, $\\sigma$: %.2f\" %(param[0],param[1], param[2])\n",
    "# handles, labels = ax.get_legend_handles_labels()\n",
    "# handles.append(mpatches.Patch(color='none', label=legend_text))\n",
    "# ax.axvline(x=4, color='r')\n",
    "# ax.legend(fontsize=14)\n",
    "# ax.legend(handles=handles, fontsize=14);\n",
    "# ax.set_xlabel(\"Charge [fC]\")\n",
    "# ax.set_title(\"Batch 301, USTC2.1-W17-P6-A\")"
   ]
  },
  {
   "cell_type": "code",
   "execution_count": null,
   "id": "cedd7122",
   "metadata": {},
   "outputs": [],
   "source": []
  },
  {
   "cell_type": "code",
   "execution_count": null,
   "id": "a4d0dde7",
   "metadata": {
    "scrolled": false
   },
   "outputs": [],
   "source": [
    "# fig, ax = plt.subplots(figsize=(10,6))\n",
    "# for i in range(1000,3000,200):\n",
    "\n",
    "#     bins = i\n",
    "#     print(find_min_btw_peaks(df[Scope][\"pulseHeight_3\"], bins=i, prominence=None, distance=10, plot=True))\n",
    "# ax.set_xlim(-5,20)"
   ]
  }
 ],
 "metadata": {
  "kernelspec": {
   "display_name": "Python 3 (ipykernel)",
   "language": "python",
   "name": "python3"
  },
  "language_info": {
   "codemirror_mode": {
    "name": "ipython",
    "version": 3
   },
   "file_extension": ".py",
   "mimetype": "text/x-python",
   "name": "python",
   "nbconvert_exporter": "python",
   "pygments_lexer": "ipython3",
   "version": "3.10.12"
  }
 },
 "nbformat": 4,
 "nbformat_minor": 5
}
