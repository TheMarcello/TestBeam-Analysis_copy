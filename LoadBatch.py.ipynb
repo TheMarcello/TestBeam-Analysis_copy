{
 "cells": [
  {
   "cell_type": "code",
   "execution_count": 2,
   "id": "e2277869",
   "metadata": {},
   "outputs": [],
   "source": [
    "import numpy as np # NumPy\n",
    "import matplotlib.pylab as plt # Matplotlib plots\n",
    "import matplotlib.patches as mpatches\n",
    "import pandas as pd # Pandas\n",
    "import uproot\n",
    "# import pickle\n",
    "\n",
    "import awkward as ak\n",
    "import mplhep as hep\n",
    "# import argparse     # to get arguments from command line executing file.py\n",
    "import os # read directories etc.\n",
    "from scipy.signal import find_peaks, gaussian\n",
    "from scipy.optimize import curve_fit\n",
    "from scipy.stats import gaussian_kde\n",
    "import pylandau\n",
    "import re\n",
    "import copy"
   ]
  },
  {
   "cell_type": "code",
   "execution_count": null,
   "id": "72737b3b",
   "metadata": {},
   "outputs": [],
   "source": []
  }
 ],
 "metadata": {
  "kernelspec": {
   "display_name": "Python 3 (ipykernel)",
   "language": "python",
   "name": "python3"
  },
  "language_info": {
   "codemirror_mode": {
    "name": "ipython",
    "version": 3
   },
   "file_extension": ".py",
   "mimetype": "text/x-python",
   "name": "python",
   "nbconvert_exporter": "python",
   "pygments_lexer": "ipython3",
   "version": "3.10.12"
  }
 },
 "nbformat": 4,
 "nbformat_minor": 5
}
