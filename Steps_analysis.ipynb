{
 "cells": [
  {
   "cell_type": "code",
   "execution_count": 1,
   "id": "107b86c6",
   "metadata": {},
   "outputs": [],
   "source": [
    "import numpy as np # NumPy\n",
    "import matplotlib.pylab as plt # Matplotlib plots\n",
    "import matplotlib.patches as mpatches\n",
    "import pandas as pd # Pandas\n",
    "# import uproot\n",
    "import pickle\n",
    "import logging\n",
    "import pprint\n",
    "\n",
    "import os # read directories etc.\n",
    "from scipy.optimize import curve_fit\n",
    "import pylandau  # Landau Gaussian convolution\n",
    "\n",
    "from LoadBatch import *\n",
    "from SensorClasses import *\n",
    "\n",
    "verbose = False\n"
   ]
  },
  {
   "cell_type": "markdown",
   "id": "81262149",
   "metadata": {},
   "source": [
    "### All the steps of the analysis put together and logically sequenced"
   ]
  },
  {
   "cell_type": "code",
   "execution_count": 2,
   "id": "fef31c2e",
   "metadata": {},
   "outputs": [],
   "source": [
    "### set logs level\n",
    "logging.basicConfig(level=logging.WARNING, format='[%(levelname)s] -\\t %(message)s')"
   ]
  },
  {
   "cell_type": "markdown",
   "id": "c4cc7558",
   "metadata": {},
   "source": [
    "## Generic bins options, Batches import\n",
    "the Batch objects are created by \"logbook reader\", it reads the .csv containing all the information about the batches (temperature, runs, angles, sensors etc.). Next I put all of the Batches into a dictionary for easier access"
   ]
  },
  {
   "cell_type": "code",
   "execution_count": 3,
   "id": "c3a28476",
   "metadata": {},
   "outputs": [],
   "source": [
    "PIXEL_SIZE = 0.0185 #mm\n",
    "\n",
    "### choose the bins so that they match the MIMOSA pixels (which are just the coordinates)\n",
    "large_bins = (np.arange(0, 900,1),\n",
    "              np.arange(0, 900,1))\n",
    "\n",
    "bins1 = (np.arange(450, 700, 1),\n",
    "        np.arange(150, 450, 1))\n",
    "\n",
    "bins2 = (np.arange(500, 650, 1),\n",
    "              np.arange(200, 450, 1))\n",
    "\n",
    "### Load the dictionary of sensor names and runs\n",
    "dict_of_batches = read_pickle(\"dict_of_batches.pickle\")\n",
    "\n",
    "logging.info(f\"dictionary of the batches: \\n{dict_of_batches}\")"
   ]
  },
  {
   "cell_type": "code",
   "execution_count": null,
   "id": "2812e1ae",
   "metadata": {},
   "outputs": [],
   "source": []
  },
  {
   "cell_type": "code",
   "execution_count": null,
   "id": "7d769266",
   "metadata": {},
   "outputs": [],
   "source": []
  }
 ],
 "metadata": {
  "kernelspec": {
   "display_name": "Python 3 (ipykernel)",
   "language": "python",
   "name": "python3"
  },
  "language_info": {
   "codemirror_mode": {
    "name": "ipython",
    "version": 3
   },
   "file_extension": ".py",
   "mimetype": "text/x-python",
   "name": "python",
   "nbconvert_exporter": "python",
   "pygments_lexer": "ipython3",
   "version": "3.10.12"
  }
 },
 "nbformat": 4,
 "nbformat_minor": 5
}
