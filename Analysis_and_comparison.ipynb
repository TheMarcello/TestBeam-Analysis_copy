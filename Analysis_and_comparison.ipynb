{
 "cells": [
  {
   "cell_type": "code",
   "execution_count": 1,
   "id": "7f367cac",
   "metadata": {},
   "outputs": [],
   "source": [
    "import numpy as np # NumPy\n",
    "import matplotlib.pylab as plt # Matplotlib plots\n",
    "import matplotlib.patches as mpatches\n",
    "import pandas as pd # Pandas\n",
    "import uproot\n",
    "import pickle\n",
    "\n",
    "import os # read directories etc.\n",
    "# from scipy.signal import find_p\n",
    "\n",
    "\n",
    "# import time\n",
    "# from timeout_decorator import timeout\n",
    "\n",
    "from LoadBatch import *\n",
    "from SensorClasses import *\n",
    "\n",
    "debug = False"
   ]
  },
  {
   "cell_type": "code",
   "execution_count": null,
   "id": "30047a79",
   "metadata": {},
   "outputs": [],
   "source": []
  }
 ],
 "metadata": {
  "kernelspec": {
   "display_name": "Python 3 (ipykernel)",
   "language": "python",
   "name": "python3"
  },
  "language_info": {
   "codemirror_mode": {
    "name": "ipython",
    "version": 3
   },
   "file_extension": ".py",
   "mimetype": "text/x-python",
   "name": "python",
   "nbconvert_exporter": "python",
   "pygments_lexer": "ipython3",
   "version": "3.10.12"
  }
 },
 "nbformat": 4,
 "nbformat_minor": 5
}
